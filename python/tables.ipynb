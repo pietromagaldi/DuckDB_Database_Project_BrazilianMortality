{
 "cells": [
  {
   "cell_type": "markdown",
   "id": "2ec8c340",
   "metadata": {},
   "source": [
    "# **Preparations**"
   ]
  },
  {
   "cell_type": "markdown",
   "id": "59c7910b",
   "metadata": {},
   "source": [
    "### **Importing necessary modules**"
   ]
  },
  {
   "cell_type": "code",
   "execution_count": 44,
   "id": "3708933b",
   "metadata": {},
   "outputs": [],
   "source": [
    "import duckdb as ddb\n",
    "import os"
   ]
  },
  {
   "cell_type": "markdown",
   "id": "e8d65714",
   "metadata": {},
   "source": [
    "### **Estabilishing connection and declaring the cursor**"
   ]
  },
  {
   "cell_type": "code",
   "execution_count": 45,
   "id": "35757c7d",
   "metadata": {},
   "outputs": [],
   "source": [
    "def connection():\n",
    "    conn = ddb.connect(\"database.db\")\n",
    "    return conn"
   ]
  },
  {
   "cell_type": "markdown",
   "id": "17de5d9c",
   "metadata": {},
   "source": [
    "# **Creating all tables**"
   ]
  },
  {
   "cell_type": "code",
   "execution_count": 46,
   "id": "b44e20d8",
   "metadata": {},
   "outputs": [],
   "source": [
    "def create_tables_sql():\n",
    "    create_tables_sql = \"\"\"\n",
    "        BEGIN;\n",
    "\n",
    "        DROP TABLE IF EXISTS \"Death\";\n",
    "\n",
    "        CREATE TABLE IF NOT EXISTS \"Death\"\n",
    "        (\n",
    "            death_id integer NOT NULL,\n",
    "            date date,\n",
    "            \"time\" time without time zone,\n",
    "            location_code integer,\n",
    "            investigated boolean,\n",
    "            cause_id character varying(10),\n",
    "            description character varying(500),\n",
    "            time_relative_birth integer,\n",
    "            pregnancy_type integer,\n",
    "            gestational_age integer,\n",
    "            birth_type integer,\n",
    "            deceased_occupation integer,\n",
    "            deceased_marital_status integer,\n",
    "            deceased_age double precision,\n",
    "            deceased_weight double precision,\n",
    "            deceased_education_level integer,\n",
    "            deceased_race_color integer,\n",
    "            deceased_sex integer,\n",
    "            mother_living_children integer,\n",
    "            mother_deceased_children integer,\n",
    "            mother_education_level integer,\n",
    "            mother_age double precision,\n",
    "            mother_occupation double precision\n",
    "        );\n",
    "\n",
    "        DROP TABLE IF EXISTS \"Location\";\n",
    "\n",
    "        CREATE TABLE IF NOT EXISTS \"Location\"\n",
    "        (\n",
    "            \"IBGE_city_code\" integer NOT NULL,\n",
    "            city_name character varying(200) NOT NULL,\n",
    "            \"GDP\" real,\n",
    "            \"GDP_per_capita\" real,\n",
    "            population_estimate_2009 double precision,\n",
    "            \"IBGE_state_code\" integer,\n",
    "            state_name character varying(200),\n",
    "            \"basic_health_unit_CNES\" integer,\n",
    "            basic_health_unit_name character varying(200)\n",
    "        );\n",
    "        END;\n",
    "        \"\"\"\n",
    "    return create_tables_sql"
   ]
  },
  {
   "cell_type": "markdown",
   "id": "a6b78e1f",
   "metadata": {},
   "source": [
    "# **Inserting data into the tables**"
   ]
  },
  {
   "cell_type": "markdown",
   "id": "438e00cc",
   "metadata": {},
   "source": [
    "### **Inserting data into the \"Location\" table**"
   ]
  },
  {
   "cell_type": "code",
   "execution_count": null,
   "id": "26162b5a",
   "metadata": {},
   "outputs": [],
   "source": [
    "def insert_location(conn):\n",
    "    file_path = os.path.abspath('../preprocessed_datasets_NoSQL/Location.csv')\n",
    "    insert_location_sql = f\"\"\"\n",
    "        COPY \"Location\" (\"IBGE_city_code\", \"city_name\", \"GDP\", \"GDP_per_capita\", \"population_estimate_2009\", \"IBGE_state_code\", \"state_name\", \"basic_health_unit_CNES\", \"basic_health_unit_name\")\n",
    "        FROM '{file_path}'\n",
    "        (FORMAT CSV, HEADER, DELIMITER ';', NULL '', ENCODING 'utf-8');\n",
    "    \"\"\"\n",
    "    conn.sql(insert_location_sql)"
   ]
  },
  {
   "cell_type": "markdown",
   "id": "5ff8b6ab",
   "metadata": {},
   "source": [
    "### **Inserting data into the \"Death\" table**"
   ]
  },
  {
   "cell_type": "code",
   "execution_count": null,
   "id": "cc731445",
   "metadata": {},
   "outputs": [],
   "source": [
    "def insert_death(conn):\n",
    "    file_path = os.path.abspath('../preprocessed_datasets_NoSQL/Death.csv')\n",
    "    insert_death_sql = f\"\"\"\n",
    "        COPY \"Death\" (\"death_id\", \"date\", \"time\", \"location_code\", \"investigated\", \"cause_id\", \"description\", \"time_relative_birth\", \"pregnancy_type\", \"gestational_age\", \"birth_type\", \"deceased_occupation\", \"deceased_marital_status\", \"deceased_age\", \"deceased_weight\", \"deceased_education_level\", \"deceased_race_color\", \"deceased_sex\", \"mother_living_children\", \"mother_deceased_children\", \"mother_age\", \"mother_education_level\", \"mother_occupation\")\n",
    "        FROM '{file_path}'\n",
    "        (FORMAT CSV, HEADER, DELIMITER ';', NULL '', ENCODING 'utf-8');\n",
    "    \"\"\"\n",
    "    conn.sql(insert_death_sql)"
   ]
  },
  {
   "cell_type": "markdown",
   "id": "41277c51",
   "metadata": {},
   "source": [
    "# **Executing the scripts and commiting changes**"
   ]
  },
  {
   "cell_type": "markdown",
   "id": "c3d1e5f6",
   "metadata": {},
   "source": [
    "### **Executing SQL scripts**"
   ]
  },
  {
   "cell_type": "code",
   "execution_count": 49,
   "id": "d28aaaef",
   "metadata": {},
   "outputs": [],
   "source": [
    "def execute_script(cursor, script):\n",
    "    cursor.execute(script)"
   ]
  },
  {
   "cell_type": "markdown",
   "id": "23359b7e",
   "metadata": {},
   "source": [
    "### **Commiting changes and closing the cursor and connection**"
   ]
  },
  {
   "cell_type": "code",
   "execution_count": 50,
   "id": "f65253d4",
   "metadata": {},
   "outputs": [],
   "source": [
    "def close_conn(connection):\n",
    "    connection.close()"
   ]
  },
  {
   "cell_type": "markdown",
   "id": "d6518dd3",
   "metadata": {},
   "source": [
    "# **Main**"
   ]
  },
  {
   "cell_type": "code",
   "execution_count": 51,
   "id": "16feb7ed",
   "metadata": {},
   "outputs": [],
   "source": [
    "conn = connection()\n",
    "sql = create_tables_sql()\n",
    "conn.sql(sql)\n",
    "insert_location(conn)\n",
    "insert_death(conn)"
   ]
  },
  {
   "cell_type": "code",
   "execution_count": 52,
   "id": "e4f44ebb",
   "metadata": {},
   "outputs": [
    {
     "name": "stdout",
     "output_type": "stream",
     "text": [
      "┌──────────┬────────────┬──────────┬───────────────┬──────────────┬──────────┬─────────────────────────────────────────────────────────────────────────────────────────────────────────────────────────────────────────────────────────────────┬─────────────────────┬────────────────┬─────────────────┬────────────┬─────────────────────┬─────────────────────────┬─────────────────────┬─────────────────┬──────────────────────────┬─────────────────────┬──────────────┬────────────────────────┬──────────────────────────┬────────────────────────┬────────────┬───────────────────┐\n",
      "│ death_id │    date    │   time   │ location_code │ investigated │ cause_id │                                                                           description                                                                           │ time_relative_birth │ pregnancy_type │ gestational_age │ birth_type │ deceased_occupation │ deceased_marital_status │    deceased_age     │ deceased_weight │ deceased_education_level │ deceased_race_color │ deceased_sex │ mother_living_children │ mother_deceased_children │ mother_education_level │ mother_age │ mother_occupation │\n",
      "│  int32   │    date    │   time   │     int32     │   boolean    │ varchar  │                                                                             varchar                                                                             │        int32        │     int32      │      int32      │   int32    │        int32        │          int32          │       double        │     double      │          int32           │        int32        │    int32     │         int32          │          int32           │         int32          │   double   │      double       │\n",
      "├──────────┼────────────┼──────────┼───────────────┼──────────────┼──────────┼─────────────────────────────────────────────────────────────────────────────────────────────────────────────────────────────────────────────────────────────────┼─────────────────────┼────────────────┼─────────────────┼────────────┼─────────────────────┼─────────────────────────┼─────────────────────┼─────────────────┼──────────────────────────┼─────────────────────┼──────────────┼────────────────────────┼──────────────────────────┼────────────────────────┼────────────┼───────────────────┤\n",
      "│        1 │ 2010-08-06 │ 20:00:00 │        120040 │ false        │ R98      │ Morte sem assistência                                                                                                                                           │                NULL │           NULL │            NULL │       NULL │                NULL │                       1 │                65.0 │            NULL │                        1 │                NULL │            2 │                   NULL │                     NULL │                   NULL │       NULL │              NULL │\n",
      "│        2 │ 2010-08-06 │ 13:00:00 │        120040 │ true         │ I21      │ Infarto agudo do miocárdio                                                                                                                                      │                NULL │           NULL │            NULL │       NULL │                NULL │                       1 │                98.0 │            NULL │                        2 │                NULL │            1 │                   NULL │                     NULL │                   NULL │       NULL │              NULL │\n",
      "│        3 │ 2010-10-02 │ 17:00:00 │        120040 │ false        │ R98      │ Morte sem assistência                                                                                                                                           │                NULL │           NULL │            NULL │       NULL │                NULL │                    NULL │                 0.5 │            NULL │                     NULL │                   4 │            2 │                   NULL │                     NULL │                   NULL │       NULL │              NULL │\n",
      "│        4 │ 2010-04-07 │ 23:00:00 │        120042 │ false        │ P96      │ Outras afecções originadas no período perinatal                                                                                                                 │                   3 │              1 │               1 │          1 │                NULL │                    NULL │                NULL │           400.0 │                     NULL │                   1 │            2 │                      1 │                        1 │                      1 │       25.0 │              NULL │\n",
      "│        5 │ 2010-05-13 │ NULL     │        120020 │ NULL         │ X99      │ Agressão por meio de objeto cortante ou penetrante                                                                                                              │                NULL │           NULL │            NULL │       NULL │                NULL │                       1 │                38.0 │            NULL │                        3 │                   1 │            1 │                   NULL │                     NULL │                   NULL │       NULL │              NULL │\n",
      "│        6 │ 2010-03-15 │ 08:00:00 │        120070 │ false        │ R09      │ Outros sintomas e sinais relativos aos aparelhos circulatório e respiratório                                                                                    │                NULL │           NULL │            NULL │       NULL │              999993 │                       1 │                63.0 │            NULL │                        9 │                   4 │            1 │                   NULL │                     NULL │                   NULL │       NULL │              NULL │\n",
      "│        7 │ 2010-05-03 │ 16:30:00 │        120070 │ true         │ I64      │ Acidente vascular cerebral, não especificado como hemorrágico ou isquêmico                                                                                      │                NULL │           NULL │            NULL │       NULL │              632205 │                       2 │                72.0 │            NULL │                        9 │                   4 │            1 │                   NULL │                     NULL │                   NULL │       NULL │              NULL │\n",
      "│        8 │ 2010-10-27 │ 17:30:00 │        120070 │ false        │ R98      │ Morte sem assistência                                                                                                                                           │                NULL │           NULL │            NULL │       NULL │                NULL │                       1 │                77.0 │            NULL │                     NULL │                NULL │            1 │                   NULL │                     NULL │                   NULL │       NULL │              NULL │\n",
      "│        9 │ 2010-11-11 │ 03:00:00 │        120070 │ false        │ R98      │ Morte sem assistência                                                                                                                                           │                NULL │           NULL │            NULL │       NULL │              632205 │                       2 │                78.0 │            NULL │                     NULL │                NULL │            1 │                   NULL │                     NULL │                   NULL │       NULL │              NULL │\n",
      "│       10 │ 2010-02-23 │ 11:15:00 │        120033 │ false        │ R99      │ Outras causas mal definidas e as não especificadas de mortalidade                                                                                               │                NULL │           NULL │            NULL │       NULL │              999993 │                       3 │                91.0 │            NULL │                        1 │                   4 │            2 │                   NULL │                     NULL │                   NULL │       NULL │              NULL │\n",
      "│        · │     ·      │    ·     │           ·   │  ·           │  ·       │                                ·                                                                                                                                │                  ·  │             ·  │              ·  │         ·  │                  ·  │                       · │                  ·  │              ·  │                        · │                   · │            · │                     ·  │                       ·  │                     ·  │         ·  │                ·  │\n",
      "│        · │     ·      │    ·     │           ·   │  ·           │  ·       │                                ·                                                                                                                                │                  ·  │             ·  │              ·  │         ·  │                  ·  │                       · │                  ·  │              ·  │                        · │                   · │            · │                     ·  │                       ·  │                     ·  │         ·  │                ·  │\n",
      "│        · │     ·      │    ·     │           ·   │  ·           │  ·       │                                ·                                                                                                                                │                  ·  │             ·  │              ·  │         ·  │                  ·  │                       · │                  ·  │              ·  │                        · │                   · │            · │                     ·  │                       ·  │                     ·  │         ·  │                ·  │\n",
      "│     9991 │ 2010-08-19 │ 06:20:00 │        270260 │ true         │ C22      │ Neoplasia maligna do fígado e das vias biliares intra-hepáticas                                                                                                 │                NULL │           NULL │            NULL │       NULL │                NULL │                       2 │                75.0 │            NULL │                     NULL │                   1 │            1 │                   NULL │                     NULL │                   NULL │       NULL │              NULL │\n",
      "│     9992 │ 2010-06-09 │ 03:00:00 │        270260 │ true         │ J45      │ Asma                                                                                                                                                            │                NULL │              1 │            NULL │          2 │                NULL │                    NULL │ 0.08333333333333333 │            NULL │                     NULL │                   1 │            1 │                      2 │                     NULL │                      2 │       25.0 │              NULL │\n",
      "│     9993 │ 2010-06-06 │ 20:00:00 │        270260 │ true         │ I11      │ Doença cardíaca hipertensiva                                                                                                                                    │                NULL │           NULL │            NULL │       NULL │                NULL │                    NULL │                84.0 │            NULL │                     NULL │                NULL │            1 │                   NULL │                     NULL │                   NULL │       NULL │              NULL │\n",
      "│     9994 │ 2010-06-12 │ 03:00:00 │        270260 │ true         │ G40      │ Epilepsia                                                                                                                                                       │                NULL │           NULL │            NULL │       NULL │                NULL │                       1 │                28.0 │            NULL │                     NULL │                   1 │            2 │                   NULL │                     NULL │                   NULL │       NULL │              NULL │\n",
      "│     9995 │ 2010-05-25 │ 09:35:00 │        270470 │ NULL         │ K74      │ Fibrose e cirrose hepáticas                                                                                                                                     │                NULL │           NULL │            NULL │       NULL │              999993 │                       1 │                56.0 │            NULL │                        1 │                   4 │            1 │                   NULL │                     NULL │                   NULL │       NULL │              NULL │\n",
      "│     9996 │ 2010-06-16 │ 09:09:00 │        270470 │ NULL         │ A41      │ Outras septicemias                                                                                                                                              │                NULL │           NULL │            NULL │       NULL │              513205 │                       2 │                75.0 │            NULL │                        3 │                NULL │            1 │                   NULL │                     NULL │                   NULL │       NULL │              NULL │\n",
      "│     9997 │ 2010-06-26 │ 06:00:00 │        270470 │ NULL         │ Y83      │ Reação anormal em paciente ou complicação tardia, causadas por intervenção cirúrgica e por outros atos cirúrgicos, sem menção de acidente durante a intervenção │                NULL │           NULL │            NULL │       NULL │              911305 │                       3 │                81.0 │            NULL │                        2 │                   4 │            1 │                   NULL │                     NULL │                   NULL │       NULL │              NULL │\n",
      "│     9998 │ 2010-06-29 │ 18:30:00 │        270470 │ NULL         │ E14      │ Diabetes mellitus não especificado                                                                                                                              │                NULL │           NULL │            NULL │       NULL │              999992 │                    NULL │                80.0 │            NULL │                        2 │                   1 │            2 │                   NULL │                     NULL │                   NULL │       NULL │              NULL │\n",
      "│     9999 │ 2010-08-29 │ 04:00:00 │        270470 │ NULL         │ M05      │ Artrite reumatóide soro-positiva                                                                                                                                │                NULL │           NULL │            NULL │       NULL │              999992 │                       1 │                67.0 │            NULL │                        2 │                   4 │            2 │                   NULL │                     NULL │                   NULL │       NULL │              NULL │\n",
      "│    10000 │ 2010-08-04 │ 13:30:00 │        270540 │ false        │ E14      │ Diabetes mellitus não especificado                                                                                                                              │                NULL │           NULL │            NULL │       NULL │                NULL │                       2 │                76.0 │            NULL │                        9 │                   4 │            2 │                   NULL │                     NULL │                   NULL │       NULL │              NULL │\n",
      "├──────────┴────────────┴──────────┴───────────────┴──────────────┴──────────┴─────────────────────────────────────────────────────────────────────────────────────────────────────────────────────────────────────────────────────────────────┴─────────────────────┴────────────────┴─────────────────┴────────────┴─────────────────────┴─────────────────────────┴─────────────────────┴─────────────────┴──────────────────────────┴─────────────────────┴──────────────┴────────────────────────┴──────────────────────────┴────────────────────────┴────────────┴───────────────────┤\n",
      "│ ? rows (>9999 rows, 20 shown)                                                                                                                                                                                                                                                                                                                                                                                                                                                                                                                                                 23 columns │\n",
      "└──────────────────────────────────────────────────────────────────────────────────────────────────────────────────────────────────────────────────────────────────────────────────────────────────────────────────────────────────────────────────────────────────────────────────────────────────────────────────────────────────────────────────────────────────────────────────────────────────────────────────────────────────────────────────────────────────────────────────────────────────────────────────────────────────────────────────────────────────────────────────────────┘\n",
      "\n"
     ]
    }
   ],
   "source": [
    "conn.table(\"Death\").show()"
   ]
  },
  {
   "cell_type": "code",
   "execution_count": 53,
   "id": "29e92eca",
   "metadata": {},
   "outputs": [],
   "source": [
    "close_conn(conn)"
   ]
  }
 ],
 "metadata": {
  "kernelspec": {
   "display_name": "Python 3",
   "language": "python",
   "name": "python3"
  },
  "language_info": {
   "codemirror_mode": {
    "name": "ipython",
    "version": 3
   },
   "file_extension": ".py",
   "mimetype": "text/x-python",
   "name": "python",
   "nbconvert_exporter": "python",
   "pygments_lexer": "ipython3",
   "version": "3.13.0"
  }
 },
 "nbformat": 4,
 "nbformat_minor": 5
}
