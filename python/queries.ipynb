{
 "cells": [
  {
   "cell_type": "markdown",
   "metadata": {},
   "source": [
    "# **Preparations**"
   ]
  },
  {
   "cell_type": "markdown",
   "metadata": {},
   "source": [
    "### **Importing necessary modules**"
   ]
  },
  {
   "cell_type": "code",
   "execution_count": null,
   "metadata": {},
   "outputs": [],
   "source": [
    "import duckdb as ddb\n",
    "import os"
   ]
  },
  {
   "cell_type": "markdown",
   "metadata": {},
   "source": [
    "# **Declaring queries**"
   ]
  },
  {
   "cell_type": "markdown",
   "metadata": {},
   "source": [
    "### **Get mortality rate by state**"
   ]
  },
  {
   "cell_type": "code",
   "execution_count": null,
   "metadata": {},
   "outputs": [],
   "source": [
    "mortality_by_state_sql = \"\"\"\n",
    "-- Estimate population, total deaths, and mortality rate (per 1000) by state\n",
    "WITH population_by_city AS (\n",
    "\tSELECT\n",
    "\t\t\"IBGE_city_code\" AS city_code,\n",
    "\t\tANY_VALUE(\"IBGE_state_code\") AS state_code,\n",
    "\t\tANY_VALUE(\"state_name\") AS state_name,\n",
    "\t\tANY_VALUE(\"population_estimate_2009\") AS population\n",
    "\tFROM \"Location\"\n",
    "\tGROUP BY city_code\n",
    "),\n",
    "\n",
    "deaths_by_city AS (\n",
    "\tSELECT \n",
    "\t\t\"location_code\" AS city_code,\n",
    "\t\tCOUNT(DISTINCT \"death_id\") AS total_deaths             \n",
    "\tFROM \"Death\"\n",
    "\tGROUP BY city_code\n",
    ")\n",
    "\n",
    "SELECT\n",
    "\tANY_VALUE(pop.state_name) AS \"State\",\n",
    "\tSUM(pop.population) AS \"Estimated_Population\",\n",
    "\tSUM(dth.total_deaths) AS \"Total_Deaths\",\n",
    "\tROUND(\n",
    "\t\tCAST((1000 * SUM(dth.total_deaths) / SUM(pop.population)) AS NUMERIC),\n",
    "\t\t4\n",
    "\t) AS \"Mortality_Rate\"\n",
    "FROM population_by_city pop\n",
    "JOIN deaths_by_city dth ON pop.city_code = dth.city_code\n",
    "GROUP BY state_code\n",
    "ORDER BY \"Mortality_Rate\" DESC\n",
    "\"\"\""
   ]
  },
  {
   "cell_type": "markdown",
   "metadata": {},
   "source": [
    "### **Get the most common cause of death by age**"
   ]
  },
  {
   "cell_type": "code",
   "execution_count": null,
   "metadata": {},
   "outputs": [],
   "source": [
    "death_cause_by_age_sql = \"\"\"\n",
    "-- Find the most common cause of death (modal cause) for each age\n",
    "WITH causes_by_age AS (\n",
    "    SELECT  \n",
    "        \"cause_id\" AS cause_id,\n",
    "\t\tANY_VALUE(\"description\") AS description,\n",
    "        ROUND(CAST(\"deceased_age\" AS NUMERIC), 0) AS age,\n",
    "        COUNT(DISTINCT \"death_id\") AS death_count\n",
    "    FROM \"Death\"\n",
    "    GROUP BY age, cause_id\n",
    "),\n",
    "\n",
    "age_totals_and_max AS (\n",
    "    SELECT \n",
    "        age,\n",
    "        MAX(death_count) AS max_death_count,\n",
    "        SUM(death_count) AS total_deaths_for_age\n",
    "    FROM causes_by_age\n",
    "    GROUP BY age\n",
    ")\n",
    "\n",
    "SELECT  \n",
    "    cba.age,\n",
    "    cba.\"description\" AS most_common_cause,\n",
    "    cba.death_count AS deaths_from_cause,\n",
    "    atm.total_deaths_for_age,\n",
    "    ROUND(100.0 * cba.death_count / atm.total_deaths_for_age, 4) AS cause_percentage\n",
    "FROM causes_by_age cba\n",
    "JOIN age_totals_and_max atm \n",
    "    ON cba.age = atm.age AND cba.death_count = atm.max_death_count\n",
    "ORDER BY cba.age\n",
    "\"\"\""
   ]
  },
  {
   "cell_type": "markdown",
   "metadata": {},
   "source": [
    "### **Get the average age at death (proxy for life expectancy) by city GDP per capita decile**"
   ]
  },
  {
   "cell_type": "code",
   "execution_count": null,
   "metadata": {},
   "outputs": [],
   "source": [
    "life_expectancy_by_gdp_sql = \"\"\"\n",
    "-- Analyze death statistics by GDP per capita decile\n",
    "WITH city_deciles AS (\n",
    "    SELECT \n",
    "        \"IBGE_city_code\" AS city_code,\n",
    "\t\tANY_VALUE(\"GDP_per_capita\") AS gdp_per_capita,\n",
    "\t\tANY_VALUE(\"population_estimate_2009\") AS population,\n",
    "        NTILE(10) OVER (ORDER BY ANY_VALUE(\"GDP_per_capita\")) AS decile\n",
    "    FROM \"Location\"\n",
    "\tGROUP BY city_code\n",
    "),\n",
    "\n",
    "city_stats_by_decile AS (\n",
    "    SELECT \n",
    "        decile,\n",
    "        COUNT(*) AS number_of_cities,\n",
    "        MIN(gdp_per_capita) AS lowest_gdp_per_capita,\n",
    "        MAX(gdp_per_capita) AS highest_gdp_per_capita,\n",
    "        SUM(population) AS total_population\n",
    "    FROM city_deciles\n",
    "    GROUP BY decile\n",
    "),\n",
    "\n",
    "death_stats_by_decile AS (\n",
    "    SELECT \n",
    "        d.decile,\n",
    "        COUNT(DISTINCT \"death_id\") AS total_deaths,\n",
    "        ROUND(CAST(AVG(\"deceased_age\") AS NUMERIC), 4) AS mean_age_of_death,\n",
    "        PERCENTILE_CONT(0.5) WITHIN GROUP (ORDER BY \"deceased_age\") AS median_age_of_death\n",
    "    FROM \"Death\" dt\n",
    "    JOIN city_deciles d ON dt.\"location_code\" = d.city_code\n",
    "    GROUP BY d.decile\n",
    ")\n",
    "\n",
    "SELECT \n",
    "    cs.decile AS decile,\n",
    "    cs.number_of_cities,\n",
    "    cs.lowest_gdp_per_capita,\n",
    "    cs.highest_gdp_per_capita,\n",
    "\t--CAST(lowest_gdp_per_capita AS VARCHAR(20)) + ' - ' CAST(highest_gdp_per_capita AS VARCHAR(20))\n",
    "\t\t--AS gdp_per_capita,\n",
    "    cs.total_population,\n",
    "    ds.total_deaths,\n",
    "    ds.mean_age_of_death,\n",
    "    ds.median_age_of_death\n",
    "FROM city_stats_by_decile cs\n",
    "JOIN death_stats_by_decile ds ON cs.decile = ds.decile\n",
    "ORDER BY cs.decile\n",
    "\"\"\""
   ]
  },
  {
   "cell_type": "markdown",
   "metadata": {},
   "source": [
    "### **Get the top 3 causes of deaths for children under five, grouped by mother's education level**"
   ]
  },
  {
   "cell_type": "code",
   "execution_count": null,
   "metadata": {},
   "outputs": [],
   "source": [
    "cause_by_mothers_education_sql = \"\"\"\n",
    "-- Top 3 causes of death (under age 5) by mother's education level\n",
    "WITH deaths_by_mother_edu AS (\n",
    "    SELECT  \n",
    "        \"mother_education_level\" AS education_level,\n",
    "\t\t\"cause_id\" AS cause_id,\n",
    "\t\tANY_VALUE(\"description\") AS cause_description,\n",
    "        ROUND(AVG(CAST(\"mother_age\" AS NUMERIC)), 2) AS mothers_avg_age,\n",
    "        COUNT(DISTINCT \"death_id\") AS death_count\n",
    "    FROM \"Death\"\n",
    "\tWHERE \n",
    "\t\t\"deceased_age\" < 5.0 AND education_level IN (0, 1, 2, 3, 4, 5)\n",
    "    GROUP BY education_level, cause_id\n",
    "),\n",
    "\n",
    "ranked_causes AS (\n",
    "    SELECT  \n",
    "        education_level,\n",
    "        cause_id,\n",
    "        death_count,\n",
    "        RANK() OVER (\n",
    "            PARTITION BY education_level \n",
    "            ORDER BY death_count DESC\n",
    "        ) AS cause_rank\n",
    "    FROM deaths_by_mother_edu\n",
    "),\n",
    "\n",
    "edu_totals AS (\n",
    "    SELECT  \n",
    "        education_level,\n",
    "        SUM(death_count) AS total_death_count\n",
    "    FROM deaths_by_mother_edu\n",
    "    GROUP BY education_level\n",
    ")\n",
    "\n",
    "\n",
    "\n",
    "SELECT\n",
    "    CASE dme.education_level\n",
    "        WHEN 0 THEN 'None'\n",
    "        WHEN 1 THEN 'Elementary School'\n",
    "        WHEN 2 THEN 'Middle School'\n",
    "        WHEN 3 THEN 'High School'\n",
    "        WHEN 4 THEN 'Incomplete Higher Education'\n",
    "        WHEN 5 THEN 'Complete Higher Education'\n",
    "        ELSE 'Other'\n",
    "    END AS mothers_education_level,\n",
    "    dme.\"cause_id\",\n",
    "    rc.cause_rank,\n",
    "    dme.cause_description AS cause_of_death,\n",
    "    dme.mothers_avg_age,\n",
    "    rc.death_count AS cause_death_count,\n",
    "    et.total_death_count,\n",
    "    ROUND(100.0 * rc.death_count / et.total_death_count, 2) AS cause_percentage\n",
    "\n",
    "FROM deaths_by_mother_edu dme\n",
    "JOIN ranked_causes rc \n",
    "    ON rc.education_level = dme.education_level \n",
    "    AND rc.cause_id = dme.cause_id\n",
    "JOIN edu_totals et \n",
    "    ON et.education_level = dme.education_level\n",
    "WHERE\n",
    "\trc.cause_rank <= 3\n",
    "ORDER BY rc.education_level, rc.cause_rank\n",
    "\"\"\""
   ]
  },
  {
   "cell_type": "markdown",
   "metadata": {},
   "source": [
    "### **Get the mortality rate grouped by city population per healthcare unit (inverse healthcare unit density)**"
   ]
  },
  {
   "cell_type": "code",
   "execution_count": null,
   "metadata": {},
   "outputs": [],
   "source": [
    "mortality_by_health_unit_density_sql = \"\"\"\n",
    "-- Analyze non-external mortality rates grouped by population per health unit\n",
    "WITH population_per_unit AS (\n",
    "    SELECT\n",
    "        \"IBGE_city_code\" AS city_code,\n",
    "        ANY_VALUE(\"population_estimate_2009\") AS population,\n",
    "        COUNT(DISTINCT basic_health_unit_CNES) AS unit_count,\n",
    "        ANY_VALUE(\"population_estimate_2009\") / COUNT(DISTINCT basic_health_unit_CNES) AS persons_per_unit\n",
    "    FROM \"Location\"\n",
    "    GROUP BY \"IBGE_city_code\"\n",
    "),\n",
    "\n",
    "city_bins AS (\n",
    "    SELECT\n",
    "        city_code,\n",
    "        population,\n",
    "        unit_count,\n",
    "        persons_per_unit,\n",
    "        CASE \n",
    "            WHEN persons_per_unit < 1500 THEN 1\n",
    "            WHEN persons_per_unit < 2000 THEN 2\n",
    "            WHEN persons_per_unit < 2500 THEN 3\n",
    "            WHEN persons_per_unit < 3000 THEN 4\n",
    "            WHEN persons_per_unit < 4000 THEN 5\n",
    "            WHEN persons_per_unit < 5000 THEN 6\n",
    "            ELSE 7\n",
    "        END AS ppu_range\n",
    "    FROM population_per_unit\n",
    "),\n",
    "\n",
    "non_external_deaths AS (\n",
    "    SELECT\n",
    "        \"location_code\" AS city_code,\n",
    "        COUNT(*) AS non_external_death_count\n",
    "    FROM \"Death\"\n",
    "    WHERE NOT (\n",
    "        \"cause_id\" LIKE 'S%' OR\n",
    "        \"cause_id\" LIKE 'T%' OR\n",
    "        \"cause_id\" LIKE 'V%' OR\n",
    "        \"cause_id\" LIKE 'W%' OR\n",
    "        \"cause_id\" LIKE 'X%' OR\n",
    "        \"cause_id\" LIKE 'Y%'\n",
    "    )\n",
    "    GROUP BY \"location_code\"\n",
    ")\n",
    "\n",
    "\n",
    "SELECT\n",
    "    CASE ppu_range\n",
    "        WHEN 1 THEN 'Fewer than 1500'\n",
    "        WHEN 2 THEN '1500-1999'\n",
    "        WHEN 3 THEN '2000-2499'\n",
    "        WHEN 4 THEN '2500-2999'\n",
    "        WHEN 5 THEN '3000-3999'\n",
    "        WHEN 6 THEN '4000-4999'\n",
    "        WHEN 7 THEN '5000 or more'\n",
    "    END AS individuals_per_health_unit,\n",
    "    COUNT(*) AS number_of_cities,\n",
    "    SUM(population) AS total_population,\n",
    "    SUM(unit_count) AS total_units,\n",
    "    SUM(non_external_death_count) AS total_non_external_deaths,\n",
    "    ROUND(\n",
    "        CAST(1000 * SUM(non_external_death_count) / SUM(population) AS NUMERIC),\n",
    "        4\n",
    "    ) AS mortality_rate\n",
    "FROM city_bins cb JOIN\n",
    "    non_external_deaths ned\n",
    "    ON cb.city_code =  ned.city_code\n",
    "GROUP BY ppu_range\n",
    "ORDER BY ppu_range\n",
    "\"\"\""
   ]
  },
  {
   "cell_type": "code",
   "execution_count": null,
   "metadata": {},
   "outputs": [],
   "source": [
    "queries = [mortality_by_state_sql,\n",
    "           death_cause_by_age_sql,\n",
    "           life_expectancy_by_gdp_sql,\n",
    "           cause_by_mothers_education_sql,\n",
    "           mortality_by_health_unit_density_sql]"
   ]
  },
  {
   "cell_type": "markdown",
   "metadata": {},
   "source": [
    "## **Running queries**"
   ]
  },
  {
   "cell_type": "markdown",
   "metadata": {},
   "source": [
    "### **Print tables**"
   ]
  },
  {
   "cell_type": "code",
   "execution_count": null,
   "metadata": {},
   "outputs": [],
   "source": [
    "for q in queries:\n",
    "    with ddb.connect(os.path.abspath('../database.db')) as con:  \n",
    "        con.sql(q).show(max_rows=200)\n"
   ]
  },
  {
   "cell_type": "markdown",
   "metadata": {},
   "source": [
    "### **Save as .csv**"
   ]
  },
  {
   "cell_type": "code",
   "execution_count": null,
   "metadata": {},
   "outputs": [],
   "source": [
    "root = os.path.abspath('../results/')\n",
    "paths = [root + '/mortality_by_state.csv',\n",
    "         root + '/death_cause_by_age.csv',\n",
    "         root + '/life_expectancy_by_gdp.csv',\n",
    "         root + '/cause_by_mothers_education.csv',\n",
    "         root + '/mortality_by_health_unit_density.csv']\n",
    "\n",
    "for q, p in zip(queries, paths):\n",
    "    with ddb.connect(os.path.abspath('../database.db')) as con:\n",
    "        query = f\"COPY (\\n{q}) TO '{p}' (HEADER, DELIMITER ',')\"\n",
    "        con.sql(query)"
   ]
  }
 ],
 "metadata": {
  "kernelspec": {
   "display_name": "base",
   "language": "python",
   "name": "python3"
  },
  "language_info": {
   "codemirror_mode": {
    "name": "ipython",
    "version": 3
   },
   "file_extension": ".py",
   "mimetype": "text/x-python",
   "name": "python",
   "nbconvert_exporter": "python",
   "pygments_lexer": "ipython3",
   "version": "3.12.4"
  }
 },
 "nbformat": 4,
 "nbformat_minor": 2
}
